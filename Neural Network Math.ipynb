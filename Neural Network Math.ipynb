{
 "cells": [
  {
   "cell_type": "markdown",
   "metadata": {},
   "source": [
    "# This is to show the math used in Neural Networks with examples"
   ]
  },
  {
   "cell_type": "markdown",
   "metadata": {},
   "source": [
    "First set up the matrix that we're going to use and visualise them"
   ]
  },
  {
   "cell_type": "code",
   "execution_count": 3,
   "metadata": {
    "collapsed": false
   },
   "outputs": [
    {
     "name": "stdout",
     "output_type": "stream",
     "text": [
      "synaptic weights\n",
      "[[ 0.55540482]\n",
      " [-0.52491756]\n",
      " [ 0.64855707]]\n",
      "input matrix\n",
      "[[0 0 1]\n",
      " [1 1 1]\n",
      " [1 0 1]\n",
      " [0 1 1]]\n",
      "output matrix 1 x 4\n",
      "[[0 1 1 0]]\n",
      "output matrix transposed\n",
      "[[0]\n",
      " [1]\n",
      " [1]\n",
      " [0]]\n"
     ]
    }
   ],
   "source": [
    "    from __future__ import absolute_import, division, print_function, unicode_literals\n",
    "    from numpy import exp, array, random, dot\n",
    "    \n",
    "    training_set_inputs = array([[0, 0, 1], [1, 1, 1], [1, 0, 1], [0, 1, 1]])\n",
    "    training_set_outputs = array([[0, 1, 1, 0]])\n",
    "    \n",
    "    random.seed(13)\n",
    "    # We model a single neuron, with 3 input connections and 1 output connection.\n",
    "    # We assign random weights to a 3 x 1 matrix, with values in the range -1 to 1\n",
    "    # and mean 0\n",
    "    synaptic_weights = 2 * random.random((3, 1)) - 1\n",
    "    \n",
    "    print('synaptic weights')\n",
    "    print(synaptic_weights)\n",
    "    \n",
    "    #the trailing .T means you transpose or rotate the matrix along an axes so if tall and skinny, \n",
    "    #becomes short and wide or vice versa.\n",
    "    training_set_outputs_transposed = array([[0, 1, 1, 0]]).T\n",
    "    print('input matrix')\n",
    "    print(training_set_inputs)\n",
    "    print('output matrix 1 x 4')\n",
    "    print(training_set_outputs)\n",
    "    print('output matrix transposed')\n",
    "    print(training_set_outputs_transposed)\n",
    "    "
   ]
  },
  {
   "cell_type": "markdown",
   "metadata": {},
   "source": [
    "Define two functions to give results of a sigmoid function\n",
    "\n",
    "and the derivative of the sigmoid"
   ]
  },
  {
   "cell_type": "code",
   "execution_count": 4,
   "metadata": {
    "collapsed": true
   },
   "outputs": [],
   "source": [
    "def sigmoid(x):\n",
    "        return 1 / (1 + exp(-x))\n",
    "def sigmoid_derivative(x):\n",
    "        return x * (1 - x)"
   ]
  },
  {
   "cell_type": "markdown",
   "metadata": {},
   "source": [
    "Show both functions in mat plot\n",
    "\n",
    "Sigmoid converts large values into a range of probability between 0 and 1\n",
    "\n",
    "sigmoid derivative tells you the rate of change for the sigmoid value passed to it.\n"
   ]
  },
  {
   "cell_type": "code",
   "execution_count": 5,
   "metadata": {
    "collapsed": false
   },
   "outputs": [
    {
     "data": {
      "image/png": "[encoded data removed]",
      "text/plain": [
       "<matplotlib.figure.Figure at 0x7fad73eaa6d8>"
      ]
     },
     "metadata": {},
     "output_type": "display_data"
    },
    {
     "data": {
      "image/png": "[encoded data removed]",
      "text/plain": [
       "<matplotlib.figure.Figure at 0x7fad7058d6a0>"
      ]
     },
     "metadata": {},
     "output_type": "display_data"
    }
   ],
   "source": [
    "import matplotlib.pyplot as plt\n",
    "\n",
    "def seq(start, stop, step=1):\n",
    "    n = int(round((stop - start)/float(step)))\n",
    "    if n > 1:\n",
    "        return([start + step*i for i in range(n+1)])\n",
    "    else:\n",
    "        return([])\n",
    "\n",
    "listplusminus1 = seq(-10, 10, 0.1)\n",
    "sigmoidlist = seq(-10, 10, 0.1)\n",
    "sigmoid_diriv = seq(-10, 10, 0.1)\n",
    "\n",
    "\n",
    "for i,value in enumerate(sigmoidlist):\n",
    "    sigmoidlist[i] = sigmoid(value)\n",
    "\n",
    "for i,value in enumerate(sigmoid_diriv):\n",
    "    sigmoid_diriv[i] = sigmoid_derivative(sigmoidlist[i])\n",
    "    #sigmoid_diriv[i] = sigmoid_derivative(value)\n",
    "    \n",
    "\n",
    "    \n",
    "plt.title('Sigmoid function')    \n",
    "plt.scatter(listplusminus1, sigmoidlist)\n",
    "plt.plot(listplusminus1, sigmoidlist)\n",
    "plt.show()\n",
    "\n",
    "plt.title('Sigmoid derivative function')    \n",
    "plt.scatter(sigmoidlist, sigmoid_diriv)\n",
    "plt.plot(sigmoidlist, sigmoid_diriv)\n",
    "plt.show()\n",
    "\n",
    "\n"
   ]
  },
  {
   "cell_type": "markdown",
   "metadata": {},
   "source": [
    "Try using the combination of your synaptic weights with the inputs to see if you get close to the outputs the training data would give you.  This is the synapse actually 'thinking'"
   ]
  },
  {
   "cell_type": "code",
   "execution_count": 6,
   "metadata": {
    "collapsed": false
   },
   "outputs": [
    {
     "name": "stdout",
     "output_type": "stream",
     "text": [
      "[[0 0 1]\n",
      " [1 1 1]\n",
      " [1 0 1]\n",
      " [0 1 1]]\n",
      "[[ 0.55540482]\n",
      " [-0.52491756]\n",
      " [ 0.64855707]]\n",
      "dot product of training inputs and synaptic weights\n",
      "[[ 0.64855707]\n",
      " [ 0.67904433]\n",
      " [ 1.20396189]\n",
      " [ 0.12363951]]\n",
      "now find its sigmoid\n",
      "[[ 0.65668523]\n",
      " [ 0.66352537]\n",
      " [ 0.76922883]\n",
      " [ 0.53087056]]\n"
     ]
    }
   ],
   "source": [
    "\n",
    "#stage 1 work out the dot product of your inputs and weights\n",
    "dotproduct = dot(training_set_inputs, synaptic_weights)\n",
    "print(training_set_inputs)\n",
    "print(synaptic_weights)\n",
    "print('dot product of training inputs and synaptic weights')\n",
    "print(dotproduct)\n",
    "#then take the output and put it through a sigmoid fucntion to push the values into the 0 to 1 range\n",
    "print('now find its sigmoid')\n",
    "sigmoid_of_dot_product = sigmoid(dotproduct)\n",
    "print(sigmoid_of_dot_product)"
   ]
  },
  {
   "cell_type": "markdown",
   "metadata": {},
   "source": [
    "OK so this used the synaptic weights matrix multiplied with the inputs to get output values. As we want these to be either zeros or ones we need to run them through a sigmoid function to give probability that it is one or the other.  Greater than .5 would probably be a 1 and less than that be a zero.  Confidence grows as the number rises."
   ]
  },
  {
   "cell_type": "code",
   "execution_count": 7,
   "metadata": {
    "collapsed": false
   },
   "outputs": [
    {
     "name": "stdout",
     "output_type": "stream",
     "text": [
      "what we wanted to get\n",
      "[[0]\n",
      " [1]\n",
      " [1]\n",
      " [0]]\n",
      "what we got after the synapse had its think\n",
      "[[ 0.65668523]\n",
      " [ 0.66352537]\n",
      " [ 0.76922883]\n",
      " [ 0.53087056]]\n"
     ]
    }
   ],
   "source": [
    "print('what we wanted to get')\n",
    "print(training_set_outputs_transposed)\n",
    "print('what we got after the synapse had its think')\n",
    "print(sigmoid_of_dot_product)"
   ]
  },
  {
   "cell_type": "code",
   "execution_count": 9,
   "metadata": {
    "collapsed": false
   },
   "outputs": [
    {
     "name": "stdout",
     "output_type": "stream",
     "text": [
      "error or cost of the current function\n",
      "[[-0.65668523]\n",
      " [ 0.33647463]\n",
      " [ 0.23077117]\n",
      " [-0.53087056]]\n",
      "find the adjustment you need to make by multiplying the error by the sigmoid_derivative(sigmoid_of_dot_product)\n",
      "[[ 0.22544974]\n",
      " [ 0.22325945]\n",
      " [ 0.17751584]\n",
      " [ 0.24904701]]\n",
      "which you find the dot product with the Training inputs transposed\n",
      "[[0 1 1 0]\n",
      " [0 1 0 1]\n",
      " [1 1 1 1]]\n",
      "so guess at what adjustment we need to make now becomes\n",
      "[[ 0.11608668]\n",
      " [-0.05709058]\n",
      " [-0.16417456]]\n"
     ]
    }
   ],
   "source": [
    "error = training_set_outputs_transposed - sigmoid_of_dot_product\n",
    "print('error or cost of the current function')\n",
    "print(error)\n",
    "print('find the adjustment you need to make by multiplying the error by the sigmoid_derivative(sigmoid_of_dot_product)')\n",
    "print(sigmoid_derivative(sigmoid_of_dot_product))\n",
    "print('which you find the dot product with the Training inputs transposed')\n",
    "print(training_set_inputs.T)\n",
    "print('so guess at what adjustment we need to make now becomes')\n",
    "adjustment = dot(training_set_inputs.T, error * sigmoid_derivative(sigmoid_of_dot_product))\n",
    "print(adjustment)\n"
   ]
  },
  {
   "cell_type": "code",
   "execution_count": 10,
   "metadata": {
    "collapsed": false
   },
   "outputs": [
    {
     "name": "stdout",
     "output_type": "stream",
     "text": [
      "so after 1st round of training we have synaptic weights change from\n",
      "[[ 0.55540482]\n",
      " [-0.52491756]\n",
      " [ 0.64855707]]\n",
      "to\n",
      "[[ 0.6714915 ]\n",
      " [-0.58200814]\n",
      " [ 0.48438251]]\n"
     ]
    }
   ],
   "source": [
    "print('so after 1st round of training we have synaptic weights change from')\n",
    "print(synaptic_weights)\n",
    "print('to')\n",
    "synaptic_weights += adjustment\n",
    "print(synaptic_weights)"
   ]
  },
  {
   "cell_type": "code",
   "execution_count": 12,
   "metadata": {
    "collapsed": false
   },
   "outputs": [
    {
     "name": "stdout",
     "output_type": "stream",
     "text": [
      "output\n",
      "[ 0.99993705]\n"
     ]
    }
   ],
   "source": [
    "#now train it with 10000 iterations\n",
    "number_of_training_iterations  = 10000\n",
    "for iteration in range(number_of_training_iterations):\n",
    "    #step 1 use current weights to guess, this is it thinking\n",
    "    dotproduct = dot(training_set_inputs, synaptic_weights)\n",
    "    sigmoid_of_dot_product = sigmoid(dotproduct)\n",
    "    #step 2 work out error\n",
    "    error = training_set_outputs_transposed - sigmoid_of_dot_product\n",
    "    #step 3 work out adjustment\n",
    "    adjustment = dot(training_set_inputs.T, error * sigmoid_derivative(sigmoid_of_dot_product))\n",
    "    #step 4 apply it to your weights\n",
    "    synaptic_weights += adjustment\n",
    "#test it \n",
    "test_data = array([1, 0, 0])\n",
    "dotproduct = dot(test_data, synaptic_weights)\n",
    "sigmoid_of_dot_product = sigmoid(dotproduct)\n",
    "print('output')\n",
    "print(sigmoid_of_dot_product)\n"
   ]
  },
  {
   "cell_type": "markdown",
   "metadata": {},
   "source": [
    " this is the training data and the expected outputs\n",
    " [0 0 1] = 0\n",
    " [1 1 1] = 1\n",
    " [1 0 1] = 1\n",
    " [0 1 1] = 0\n",
    " \n",
    " so for \n",
    "  1 0 0  = .99997 that's a very high confidence 1\n",
    "  \n",
    "  \n",
    " "
   ]
  },
  {
   "cell_type": "code",
   "execution_count": 13,
   "metadata": {
    "collapsed": false
   },
   "outputs": [
    {
     "name": "stdout",
     "output_type": "stream",
     "text": [
      "expect 0 from this one\n",
      "[ 0.00966974]\n"
     ]
    }
   ],
   "source": [
    "test_data = array([0, 0, 1])\n",
    "dotproduct = dot(test_data, synaptic_weights)\n",
    "sigmoid_of_dot_product = sigmoid(dotproduct)\n",
    "print('expect 0 from this one')\n",
    "print(sigmoid_of_dot_product)"
   ]
  },
  {
   "cell_type": "code",
   "execution_count": 14,
   "metadata": {
    "collapsed": false
   },
   "outputs": [
    {
     "name": "stdout",
     "output_type": "stream",
     "text": [
      "not sure what to expect from this one 0 0 0\n",
      "[ 0.5]\n"
     ]
    }
   ],
   "source": [
    "test_data = array([0, 0, 0])\n",
    "dotproduct = dot(test_data, synaptic_weights)\n",
    "sigmoid_of_dot_product = sigmoid(dotproduct)\n",
    "print('not sure what to expect from this one 0 0 0')\n",
    "print(sigmoid_of_dot_product)"
   ]
  },
  {
   "cell_type": "markdown",
   "metadata": {},
   "source": [
    "Looks like the single neuron is as stumped as I was."
   ]
  },
  {
   "cell_type": "code",
   "execution_count": null,
   "metadata": {
    "collapsed": true
   },
   "outputs": [],
   "source": []
  }
 ],
 "metadata": {
  "kernelspec": {
   "display_name": "Python 3",
   "language": "python",
   "name": "python3"
  },
  "language_info": {
   "codemirror_mode": {
    "name": "ipython",
    "version": 3
   },
   "file_extension": ".py",
   "mimetype": "text/x-python",
   "name": "python",
   "nbconvert_exporter": "python",
   "pygments_lexer": "ipython3",
   "version": "3.6.0"
  }
 },
 "nbformat": 4,
 "nbformat_minor": 2
}
